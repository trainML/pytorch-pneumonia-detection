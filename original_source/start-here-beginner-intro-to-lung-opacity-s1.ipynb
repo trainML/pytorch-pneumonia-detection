{
 "cells": [
  {
   "cell_type": "markdown",
   "metadata": {},
   "source": [
    "## Source: Guilia Savorgnan https://www.kaggle.com/giuliasavorgnan/start-here-beginner-intro-to-lung-opacity-s1"
   ]
  },
  {
   "cell_type": "code",
   "execution_count": null,
   "metadata": {
    "_uuid": "ae448b0ed29194053d40ebd29b2fa03982468552"
   },
   "outputs": [],
   "source": [
    "%matplotlib inline\n",
    "import matplotlib.pyplot as plt\n",
    "import pylab\n",
    "import numpy as np\n",
    "import pydicom\n",
    "import pandas as pd\n",
    "from glob import glob\n",
    "import os\n",
    "from matplotlib.patches import Rectangle\n",
    "\n",
    "datapath = '../input/'"
   ]
  },
  {
   "cell_type": "markdown",
   "metadata": {
    "_uuid": "a6d12a29f2498d51bc51c5621ec2ab2b60e99cbd"
   },
   "source": [
    "# Lung Radiograph Images\n",
    "The folder *stage_1_train_images* contains one image per patient, for a total of 25684 images."
   ]
  },
  {
   "cell_type": "code",
   "execution_count": null,
   "metadata": {
    "_uuid": "3b29d641de88c02088722c469a3b3831f4e335d1",
    "scrolled": true
   },
   "outputs": [],
   "source": [
    "# counting the number of files in the image folder\n",
    "!ls ../input/stage_1_train_images/ | wc"
   ]
  },
  {
   "cell_type": "markdown",
   "metadata": {
    "_uuid": "3c5877c08b0b5db659d1dd55113dd97d5b57f73c"
   },
   "source": [
    "# Bounding Boxes and Target Label Data\n",
    "The file *stage_1_train_labels.csv* contains the main training dataset, including the patiend ID, the bounding box coordinates, and the target label [0,1]. There can be multiple rows for the same patient ID, as each row corresponds to one observation (one box) per patient. \n",
    "There are 28989 total boxes, and 25684 unique patient IDs. The negative/positive Target split is roughly 70-30%."
   ]
  },
  {
   "cell_type": "code",
   "execution_count": null,
   "metadata": {
    "_uuid": "fa5346f0e010257050379687a347a069a614f53a"
   },
   "outputs": [],
   "source": [
    "df_box = pd.read_csv(datapath+'stage_1_train_labels.csv')\n",
    "print('Number of rows (unique boxes per patient) in main train dataset:', df_box.shape[0])\n",
    "print('Number of unique patient IDs:', df_box['patientId'].nunique())\n",
    "df_box.head(6)"
   ]
  },
  {
   "cell_type": "code",
   "execution_count": null,
   "metadata": {
    "_uuid": "4c0f12a64d20fb44acff8fc3e52ed8630c5aab70"
   },
   "outputs": [],
   "source": [
    "df_box.groupby('Target').size().plot.bar()\n",
    "print(df_box.groupby('Target').size() / df_box.shape[0])"
   ]
  },
  {
   "cell_type": "markdown",
   "metadata": {
    "_uuid": "13e42eb2bd668c47c91dccec70c818cf1b281631"
   },
   "source": [
    "# Detailed Class Info Data\n",
    "The file *stage_1_detailed_class_info.csv* contains detailed information about the positive and negative classes in the training set, and may be used to build more nuanced models. As in the main training dataset, this auxiliary dataset contains 28989 rows and 25684 unique patient IDs. \n",
    "There's 3 classes: \n",
    "    1. Normal (29%)\n",
    "    2. No Lung Opacity / Not Normal (40%)\n",
    "    3. Lung Opacity (31%)\n",
    "The first two classes correspond to Target = 0, whereas the third class correspond to Target = 1."
   ]
  },
  {
   "cell_type": "code",
   "execution_count": null,
   "metadata": {
    "_uuid": "f79065ff5ede4937b555d0dd3d3f9da486c83ab4"
   },
   "outputs": [],
   "source": [
    "df_aux = pd.read_csv(datapath+'stage_1_detailed_class_info.csv')\n",
    "print('Number of rows in auxiliary dataset:', df_aux.shape[0])\n",
    "print('Number of unique patient IDs:', df_aux['patientId'].nunique())\n",
    "df_aux.head(6)"
   ]
  },
  {
   "cell_type": "code",
   "execution_count": null,
   "metadata": {
    "_uuid": "b3a937a2713093e270ddb3068cbb93db833e9bd1"
   },
   "outputs": [],
   "source": [
    "df_aux.groupby('class').size().plot.bar()\n",
    "print(df_aux.groupby('class').size() / df_aux.shape[0])\n",
    "assert df_box.loc[df_box['Target']==0].shape[0] == df_aux.loc[df_aux['class'].isin(['Normal', \\\n",
    "    'No Lung Opacity / Not Normal'])].shape[0], 'Number of negative targets does not match between main and auxiliary dataset.'\n",
    "assert df_box.loc[df_box['Target']==1].shape[0] == df_aux.loc[df_aux['class'] == 'Lung Opacity'].shape[0], \\\n",
    "    'Number of positive targets does not match between main and auxiliary dataset.'"
   ]
  },
  {
   "cell_type": "markdown",
   "metadata": {
    "_uuid": "c5cc20e2eb8e9cbecf4494fe5264397438fb73a1"
   },
   "source": [
    "# Merging Main (Boxes) and Auxiliary (Classes) Datasets\n",
    "The main and auxiliary datasets do not share a joining keyword column, but it seems obvious that the rows are listed in the exact same order (check the patient Id columns to convince yourself), therefore we can combine the two dataframes by concatenating their columns."
   ]
  },
  {
   "cell_type": "code",
   "execution_count": null,
   "metadata": {
    "_uuid": "ca18783acf240faea13a23fd06fba7b41f9ea71d"
   },
   "outputs": [],
   "source": [
    "assert df_box['patientId'].values.tolist() == df_aux['patientId'].values.tolist(), 'PatientId columns are different.'\n",
    "df_train = pd.concat([df_box, df_aux.drop(labels=['patientId'], axis=1)], axis=1)\n",
    "df_train.head(6)"
   ]
  },
  {
   "cell_type": "markdown",
   "metadata": {
    "_uuid": "8b1a1a6e3a7345d0f14e948147ac972f165fc450"
   },
   "source": [
    "Just for peace of mind, we can check that there is a unique correspondence between Target and class labels."
   ]
  },
  {
   "cell_type": "code",
   "execution_count": null,
   "metadata": {
    "_uuid": "3eab5daaf119bbed48c0b1d88ae8b54121475849"
   },
   "outputs": [],
   "source": [
    "df_train.groupby(['class', 'Target']).size()"
   ]
  },
  {
   "cell_type": "markdown",
   "metadata": {
    "_uuid": "ef2c9148dec959b06313f09b8a1f29cff6113388"
   },
   "source": [
    "NaN values are only present in the box coordinates columns, as expected."
   ]
  },
  {
   "cell_type": "code",
   "execution_count": null,
   "metadata": {
    "_uuid": "99659da131444b578b386314b1abf28621c867b2",
    "scrolled": true
   },
   "outputs": [],
   "source": [
    "df_train.isnull().any()"
   ]
  },
  {
   "cell_type": "markdown",
   "metadata": {
    "_uuid": "e6555e378b682375c27e7f51f23820727b8c1694"
   },
   "source": [
    "We can also make sure that positive targets are all associated with (non-NaN) box coordinates and viceversa."
   ]
  },
  {
   "cell_type": "code",
   "execution_count": null,
   "metadata": {
    "_uuid": "4b19fb1d29e6ea657a0fb4aa0320042e9f18cbfa",
    "scrolled": true
   },
   "outputs": [],
   "source": [
    "# when target==1, are any of the box coordinates null? (should all be false)\n",
    "df_train.loc[df_train['Target']==1, ['x', 'y', 'width', 'height']].isnull().any()"
   ]
  },
  {
   "cell_type": "code",
   "execution_count": null,
   "metadata": {
    "_uuid": "dc490e7944320cc9366927083e61f78e4de28cc1"
   },
   "outputs": [],
   "source": [
    "# when target==0, are all of the box coordinates null? (should all be true)\n",
    "df_train.loc[df_train['Target']==0, ['x', 'y', 'width', 'height']].isnull().all()"
   ]
  },
  {
   "cell_type": "markdown",
   "metadata": {
    "_uuid": "8884679f0441b756e2237435ba788e846725d1a6"
   },
   "source": [
    "# Radiograph Images\n",
    "The radiograph images are stored in the folder *stage_1_train_images*. The images are saved in DICOM format (*.dcm*), which includes a header of meta-data and the raw pixel image itself. Images are named using their corrsponding patient ID. Images can be read in and modified using the library [pydicom](https://pydicom.github.io/). The headers of meta-data have been mostly anonymized for patient privacy, but they still contain a bunch of useful information that could be used to improve the classification model. The raw pixel images are stored in 1024x1024 8-bit encoded (=2^8=256 gray-scales) numpy arrays."
   ]
  },
  {
   "cell_type": "code",
   "execution_count": null,
   "metadata": {
    "_uuid": "217cd84d7db8c630e6ce69752853f3d1a659653e"
   },
   "outputs": [],
   "source": [
    "# sample of image filenames\n",
    "!ls -U ../input/stage_1_train_images/ | head -6"
   ]
  },
  {
   "cell_type": "code",
   "execution_count": null,
   "metadata": {
    "_uuid": "dd1986328860f176e3fa01862b6ed6be87ca7c83"
   },
   "outputs": [],
   "source": [
    "# check that there is an image for each unique patient ID\n",
    "assert sorted(df_train['patientId'].unique().tolist()) == sorted([f[:-4] for f in os.listdir(datapath+'stage_1_train_images/')]), \\\n",
    "    'Discrepancy between patient IDs and radiograph images.'"
   ]
  },
  {
   "cell_type": "code",
   "execution_count": null,
   "metadata": {
    "_uuid": "4a7a42771e6c52d3ef4ac47f8cb9b2aeb48e03af"
   },
   "outputs": [],
   "source": [
    "# have a look at the header meta-data of an image \n",
    "pId = df_train['patientId'].sample(1).values[0]    \n",
    "dcmdata = pydicom.read_file(datapath+'stage_1_train_images/'+pId+'.dcm')\n",
    "print(dcmdata)"
   ]
  },
  {
   "cell_type": "code",
   "execution_count": null,
   "metadata": {
    "_uuid": "d28e276c47ad03ba1264c3ab84ebf242934a2718"
   },
   "outputs": [],
   "source": [
    "# extract the raw pixel image and look at its properties\n",
    "dcmimg = dcmdata.pixel_array\n",
    "print(type(dcmimg))\n",
    "print(dcmimg.dtype)\n",
    "print(dcmimg.shape)"
   ]
  },
  {
   "cell_type": "code",
   "execution_count": null,
   "metadata": {
    "_uuid": "77436db5bde2957bac8bc02595f53a6c459cacc0"
   },
   "outputs": [],
   "source": [
    "# visualize the corresponding radiograph image\n",
    "plt.figure(figsize=(20,10))\n",
    "plt.imshow(dcmimg, cmap=pylab.cm.binary)\n",
    "plt.axis('off')"
   ]
  },
  {
   "cell_type": "markdown",
   "metadata": {
    "_uuid": "c0cec3b1313cdc96b564f84eb81892c0c7f5f1e2"
   },
   "source": [
    "# Define utility functions for visualization\n",
    "Below we define a bunch of useful functions to overlay images with boxes and labels."
   ]
  },
  {
   "cell_type": "code",
   "execution_count": null,
   "metadata": {
    "_uuid": "d832c4f159734b5e5c3f7b97ef550e913c7274d7"
   },
   "outputs": [],
   "source": [
    "def get_boxes_per_patient(df, pId):\n",
    "    '''\n",
    "    Given the dataset and one patient ID, \n",
    "    return an array of all the bounding boxes and their labels associated with that patient ID.\n",
    "    Example of return: \n",
    "    array([[x1, y1, width1, height1, class1, target1],\n",
    "           [x2, y2, width2, height2, class2, target2]])\n",
    "    '''\n",
    "    \n",
    "    boxes = df.loc[df['patientId']==pId][['x', 'y', 'width', 'height', 'class', 'Target']].values\n",
    "    return boxes"
   ]
  },
  {
   "cell_type": "code",
   "execution_count": null,
   "metadata": {
    "_uuid": "ae09da50fdcd33b96256cefb190171a79186adbc"
   },
   "outputs": [],
   "source": [
    "def get_dcm_data_per_patient(pId, sample='train'):\n",
    "    '''\n",
    "    Given one patient ID and the sample name (train/test), \n",
    "    return the corresponding dicom data.\n",
    "    '''\n",
    "    return pydicom.read_file(datapath+'stage_1_'+sample+'_images/'+pId+'.dcm')"
   ]
  },
  {
   "cell_type": "code",
   "execution_count": null,
   "metadata": {
    "_uuid": "4f6c6b6db74b7dc1f39bf38d4770d6045695ce9e"
   },
   "outputs": [],
   "source": [
    "def display_image_per_patient(df, pId, angle=0.0, sample='train'):\n",
    "    '''\n",
    "    Given one patient ID and the dataset,\n",
    "    display the corresponding dicom image with overlaying boxes and class annotation.\n",
    "    To be implemented: Optionally input the image rotation angle, in case of data augmentation.\n",
    "    '''\n",
    "    dcmdata = get_dcm_data_per_patient(pId, sample=sample)\n",
    "    dcmimg = dcmdata.pixel_array\n",
    "    boxes = get_boxes_per_patient(df, pId)\n",
    "    plt.figure(figsize=(20,10))\n",
    "    plt.imshow(dcmimg, cmap=pylab.cm.binary)\n",
    "    plt.axis('off')\n",
    "    \n",
    "    class_color_dict = {'Normal' : 'green',\n",
    "                        'No Lung Opacity / Not Normal' : 'orange',\n",
    "                        'Lung Opacity' : 'red'}\n",
    "\n",
    "    if len(boxes)>0:\n",
    "        for box in boxes:\n",
    "            # extracting individual coordinates and labels\n",
    "            x, y, w, h, c, t = box \n",
    "            # create a rectangle patch\n",
    "            patch = Rectangle((x,y), w, h, color='red', \n",
    "                              angle=angle, fill=False, lw=4, joinstyle='round', alpha=0.6)\n",
    "            # get current axis and draw rectangle\n",
    "            plt.gca().add_patch(patch)\n",
    "            \n",
    "    # add annotation text\n",
    "    plt.text(10, 50, c, color=class_color_dict[c], size=20, \n",
    "             bbox=dict(edgecolor=class_color_dict[c], facecolor='none', alpha=0.5, lw=2))\n",
    "            "
   ]
  },
  {
   "cell_type": "code",
   "execution_count": null,
   "metadata": {
    "_uuid": "7cec38779658a4be5b53ad59f1005607ec5ae69f"
   },
   "outputs": [],
   "source": [
    "# run this cell multiple times to visualize different examples\n",
    "pId = df_train['patientId'].sample(1).values[0]    \n",
    "display_image_per_patient(df_train, pId, sample='train')"
   ]
  },
  {
   "cell_type": "markdown",
   "metadata": {
    "_uuid": "e8781223d16251bc021efb3cbe8024dcfb45720b"
   },
   "source": [
    "# Extract useful meta-data from dicom headers\n",
    "We can extract some information from the image headers and add it to the training dataset, so that we can check for possible correlations with the target."
   ]
  },
  {
   "cell_type": "code",
   "execution_count": null,
   "metadata": {
    "_uuid": "8b8bb3a9d3f0fbea4f7c53adfab009b9c13fd25f"
   },
   "outputs": [],
   "source": [
    "def get_metadata_per_patient(pId, attribute, sample='train'):\n",
    "    '''\n",
    "    Given a patient ID, return useful meta-data from the corresponding dicom image header.\n",
    "    Return: \n",
    "    attribute value\n",
    "    '''\n",
    "    # get dicom image\n",
    "    dcmdata = get_dcm_data_per_patient(pId, sample=sample)\n",
    "    # extract attribute values\n",
    "    attribute_value = getattr(dcmdata, attribute)\n",
    "    return attribute_value"
   ]
  },
  {
   "cell_type": "code",
   "execution_count": null,
   "metadata": {
    "_uuid": "a6c89433fb606b2a5303fe13ca58d793b181fae9"
   },
   "outputs": [],
   "source": [
    "# create list of attributes that we want to extract (manually edited after checking which attributes contained valuable information)\n",
    "attributes = ['PatientSex', 'PatientAge', 'ViewPosition']\n",
    "for a in attributes:\n",
    "    df_train[a] = df_train['patientId'].apply(lambda x: get_metadata_per_patient(x, a, sample='train'))\n",
    "# convert patient age from string to numeric\n",
    "df_train['PatientAge'] = df_train['PatientAge'].apply(pd.to_numeric, errors='coerce')\n",
    "# remove a few outliers\n",
    "df_train['PatientAge'] = df_train['PatientAge'].apply(lambda x: x if x<120 else np.nan)\n",
    "df_train.head()"
   ]
  },
  {
   "cell_type": "code",
   "execution_count": null,
   "metadata": {
    "_uuid": "9e76c9353cd060a87039fc0cc1c1c9f65ba9ac10"
   },
   "outputs": [],
   "source": [
    "# look at age statistics between positive and negative target groups\n",
    "df_train.drop_duplicates('patientId').groupby('Target')['PatientAge'].describe()"
   ]
  },
  {
   "cell_type": "code",
   "execution_count": null,
   "metadata": {
    "_uuid": "3e34324b7a9ee1abf9e0b36ffc51f28f044def7c"
   },
   "outputs": [],
   "source": [
    "# look at gender statistics between positive and negative target groups\n",
    "df_train.drop_duplicates('patientId').groupby(['PatientSex', 'Target']).size() / df_train.drop_duplicates('patientId').groupby(['PatientSex']).size()"
   ]
  },
  {
   "cell_type": "code",
   "execution_count": null,
   "metadata": {
    "_uuid": "15bc5c4d8ce6a7eee5656508fe268e8af64af49c"
   },
   "outputs": [],
   "source": [
    "# look at patient position statistics between positive and negative target groups\n",
    "df_train.drop_duplicates('patientId').groupby(['ViewPosition', 'Target']).size() / df_train.drop_duplicates('patientId').groupby(['ViewPosition']).size()"
   ]
  },
  {
   "cell_type": "code",
   "execution_count": null,
   "metadata": {
    "_uuid": "a0b303fec9db6ab5eac76fa8bf3feecac59340a2"
   },
   "outputs": [],
   "source": [
    "# absolute split of view position\n",
    "df_train.groupby('ViewPosition').size()"
   ]
  },
  {
   "cell_type": "markdown",
   "metadata": {
    "_uuid": "a65869bfb7dbe41d1a29b6d270d34a71d4397b0f"
   },
   "source": [
    "### **Age and gender - individually - do not seem to be correlated with the target. However, the view position of the radiograph image appears to be really important in terms of target split. AP means Anterior-Posterior, whereas PA means Posterior-Anterior. This [webpage](https://www.med-ed.virginia.edu/courses/rad/cxr/technique3chest.html) explains that \"Whenever possible the patient should be imaged in an upright PA position.  AP views are less useful and should be reserved for very ill patients who cannot stand erect\". One way to interpret this target unbalance in the ViewPosition variable is that patients that are imaged in an AP position are those that are more ill, and therefore more likely to have contracted pneumonia. Note that the absolute split between AP and PA images is about 50-50, so the above consideration is extremely significant. **"
   ]
  },
  {
   "cell_type": "markdown",
   "metadata": {
    "_uuid": "55ab597e4a2c2b307a2a21dbfc26114d139eb77c"
   },
   "source": [
    "# Extract Test Images Metadata"
   ]
  },
  {
   "cell_type": "code",
   "execution_count": null,
   "metadata": {
    "_uuid": "b1be28431d5eb9831d2d765fedd004c28f434aef"
   },
   "outputs": [],
   "source": [
    "patientIDs_test = [f[:-4] for f in os.listdir(datapath+'stage_1_test_images/')]\n",
    "df_test = pd.DataFrame(data={'patientId' : patientIDs_test})"
   ]
  },
  {
   "cell_type": "code",
   "execution_count": null,
   "metadata": {
    "_uuid": "38675421d5390a29e8d0c2f4c0cfa39f51443da9"
   },
   "outputs": [],
   "source": [
    "attributes = ['PatientSex', 'PatientAge', 'ViewPosition']\n",
    "for a in attributes:\n",
    "    df_test[a] = df_test['patientId'].apply(lambda x: get_metadata_per_patient(x, a, sample='test'))\n",
    "# convert patient age from string to numeric\n",
    "df_test['PatientAge'] = df_test['PatientAge'].apply(pd.to_numeric, errors='coerce')\n",
    "# remove a few outliers\n",
    "df_test['PatientAge'] = df_test['PatientAge'].apply(lambda x: x if x<120 else np.nan)\n",
    "df_test.head()"
   ]
  },
  {
   "cell_type": "code",
   "execution_count": null,
   "metadata": {
    "_uuid": "4f3a162f88d441e3ca7f60ae35f9f4badb3ef6ad"
   },
   "outputs": [],
   "source": [
    "# save dataframes\n",
    "df_train.to_csv('train.csv', index=False)\n",
    "df_test.to_csv('test.csv', index=False)"
   ]
  },
  {
   "cell_type": "code",
   "execution_count": null,
   "metadata": {
    "_uuid": "acb7a5cee577ec0f8d5bef561d0155065b940121"
   },
   "outputs": [],
   "source": []
  }
 ],
 "metadata": {
  "kernelspec": {
   "display_name": "Python 3",
   "language": "python",
   "name": "python3"
  },
  "language_info": {
   "codemirror_mode": {
    "name": "ipython",
    "version": 3
   },
   "file_extension": ".py",
   "mimetype": "text/x-python",
   "name": "python",
   "nbconvert_exporter": "python",
   "pygments_lexer": "ipython3",
   "version": "3.8.5"
  }
 },
 "nbformat": 4,
 "nbformat_minor": 4
}
